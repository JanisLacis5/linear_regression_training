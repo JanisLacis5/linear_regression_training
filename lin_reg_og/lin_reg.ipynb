{
 "cells": [
  {
   "cell_type": "code",
   "execution_count": 91,
   "id": "7828599e-48e2-4d6f-9f2e-d0ec1a2706e5",
   "metadata": {},
   "outputs": [],
   "source": [
    "import pandas as pd\n",
    "import numpy as np"
   ]
  },
  {
   "cell_type": "code",
   "execution_count": 92,
   "id": "11d18492-a6af-4f1e-8b7e-d87134739732",
   "metadata": {},
   "outputs": [],
   "source": [
    "# read data and save original column names for measures (km/h)\n",
    "data = pd.read_csv('./data/data.csv')\n",
    "original_cols = data.columns"
   ]
  },
  {
   "cell_type": "code",
   "execution_count": 93,
   "id": "cc7bb3a9-dab4-4505-846f-f7d4ee369a95",
   "metadata": {},
   "outputs": [],
   "source": [
    "data['price(in lakhs)'] = data['price(in lakhs)'] * 1000 # make price in dollars"
   ]
  },
  {
   "cell_type": "code",
   "execution_count": 94,
   "id": "62259b46-61a0-4d7e-8219-005054a02b53",
   "metadata": {},
   "outputs": [],
   "source": [
    "del data[data.columns[0]] # delete index col\n",
    "del data['registration_year'] # delete the precise date col\n",
    "data = data.dropna()"
   ]
  },
  {
   "cell_type": "code",
   "execution_count": 95,
   "id": "ad96787a-7493-4503-93ec-d432f9e3eb0b",
   "metadata": {
    "scrolled": true
   },
   "outputs": [],
   "source": [
    "# change colunm names\n",
    "data.columns = ['name', 'insurance_validity', 'fuel_type', 'seats', 'kms_driven', 'ownership', 'transmission', 'manufacturing_year', 'mileage', 'engine', 'max_power', 'torque', 'price']"
   ]
  },
  {
   "cell_type": "code",
   "execution_count": 96,
   "id": "312b36a3-e224-430e-8c04-c87206f80e1c",
   "metadata": {},
   "outputs": [],
   "source": [
    "# remove year from car name as it is as seperate column\n",
    "data['name'] = data['name'].apply(lambda name: name.split(' ')[1])"
   ]
  },
  {
   "cell_type": "code",
   "execution_count": 97,
   "id": "6aeea42a-aea8-4c7d-a68d-239076afd7a4",
   "metadata": {},
   "outputs": [],
   "source": [
    "# change 'insurance_validity' col to numbers\n",
    "insurance_validities = {\n",
    "    'Comprehensive': 5,\n",
    "    'Zero Dep': 4,\n",
    "    'Third Party insurance': 3,\n",
    "    'Third Party': 2,\n",
    "    'Petrol': 1,\n",
    "    'Not Available': 0\n",
    "}\n",
    "data['insurance_validity'] = data['insurance_validity'].map(insurance_validities).astype(int)"
   ]
  },
  {
   "cell_type": "code",
   "execution_count": 98,
   "id": "3d90a354-467f-414b-824f-10a72d6f6d11",
   "metadata": {},
   "outputs": [],
   "source": [
    "# drop rows with invalid fuel type\n",
    "data = data.drop(data[data['fuel_type'] == '5 Seats'].index)"
   ]
  },
  {
   "cell_type": "code",
   "execution_count": 99,
   "id": "e9c116a2-e516-4a21-86b3-83e54779864e",
   "metadata": {},
   "outputs": [],
   "source": [
    "# change 'fuel_type' col to numbers\n",
    "fuel_types = {\n",
    "    'Petrol': 0,\n",
    "    'Diesel': 1,\n",
    "    'CNG': 2\n",
    "}\n",
    "data['fuel_type'] = data['fuel_type'].map(fuel_types).astype(int)"
   ]
  },
  {
   "cell_type": "code",
   "execution_count": 100,
   "id": "f7980185-5f9f-4dc5-97ee-b4cd14089caa",
   "metadata": {},
   "outputs": [],
   "source": [
    "# drop rows where transmission is not automatic or manual\n",
    "data = data.drop(data[(data['transmission'] != 'Automatic') & (data['transmission'] != 'Manual')].index)"
   ]
  },
  {
   "cell_type": "code",
   "execution_count": 101,
   "id": "72b83006-abc0-4657-8fcb-4e001f85ab39",
   "metadata": {},
   "outputs": [],
   "source": [
    "# change 'transmission' col to numbers\n",
    "transmission = {\n",
    "    'Automatic': 0,\n",
    "    'Manual': 1\n",
    "}\n",
    "data['transmission'] = data['transmission'].map(transmission).astype(int)"
   ]
  },
  {
   "cell_type": "code",
   "execution_count": 102,
   "id": "7c2021dc-fe15-4531-8b47-986200f106f8",
   "metadata": {},
   "outputs": [],
   "source": [
    "# change 'ownership' col \n",
    "ownership = {\n",
    "    'First Owner': 4,\n",
    "    'Second Owner': 3,\n",
    "    'Third Owner': 2,\n",
    "    'Fourth Owner': 1,\n",
    "    'Fifth Owner': 0\n",
    "}\n",
    "data['ownership'] = data['ownership'].map(ownership).astype(int)"
   ]
  },
  {
   "cell_type": "code",
   "execution_count": 103,
   "id": "e2bf9ca1-851b-458d-98b3-b6459fd9235e",
   "metadata": {
    "jupyter": {
     "source_hidden": true
    }
   },
   "outputs": [],
   "source": [
    "# change 'name' col\n",
    "car_brands = {\n",
    "    'Lamborghini': 27,\n",
    "    'Porsche': 26,\n",
    "    'Jaguar': 25,\n",
    "    'Land': 24,\n",
    "    'Mercedes-Benz': 23,\n",
    "    'Lexus': 22,\n",
    "    'BMW': 21,\n",
    "    'Audi': 20,\n",
    "    'Volvo': 19,\n",
    "    'Jeep': 18,\n",
    "    'Mini': 17,\n",
    "    'Volkswagen': 16,\n",
    "    'Toyota': 15, \n",
    "    'Honda': 14,\n",
    "    'Ford': 13,\n",
    "    'Nissan': 12,\n",
    "    'Mitsubishi': 11,\n",
    "    'Hyundai': 10,\n",
    "    'Kia': 9,\n",
    "    'Skoda': 8,\n",
    "    'Tata': 7,\n",
    "    'Renault': 6,\n",
    "    'Datsun': 5,\n",
    "    'Fiat': 4,\n",
    "    'MG': 3,\n",
    "    'Mahindra': 2,\n",
    "    'Maruti': 1,\n",
    "    'Isuzu': 0,\n",
    "}\n",
    "data['name'] = data['name'].map(car_brands).astype(int)"
   ]
  },
  {
   "cell_type": "code",
   "execution_count": 104,
   "id": "e3dc4afd-8000-486b-93e2-e2fdd5ab3d4d",
   "metadata": {},
   "outputs": [],
   "source": [
    "split_portion = int(len(data) * 0.7)\n",
    "training_data, test_data = data[:split_portion], data[split_portion:]\n",
    "\n",
    "y = np.array(training_data['price'], dtype=np.int64)\n",
    "x = np.array(training_data.drop(columns=['price']), dtype=np.int64)"
   ]
  },
  {
   "cell_type": "code",
   "execution_count": 185,
   "id": "a6121419-6202-4601-9719-3f16f95bdaba",
   "metadata": {},
   "outputs": [],
   "source": [
    "class LinearRegression():\n",
    "    def __init__(self, nr_of_iterations, learning_rate):\n",
    "        self.nr_of_iterations = nr_of_iterations\n",
    "        self.learning_rate = learning_rate\n",
    "        \n",
    "    def fit(self, x, y):\n",
    "        rows, cols = x.shape\n",
    "        self.a = np.zeros(cols, dtype=np.int64)\n",
    "        self.b = 0\n",
    "\n",
    "        for _ in range(self.nr_of_iterations):\n",
    "            temp = y - (np.sum(x.dot(self.a)) + self.b)\n",
    "            \n",
    "            da = (-2/rows) * np.sum(x.T * temp)\n",
    "            db = (-2/rows) * np.sum(temp)\n",
    "\n",
    "            self.a = self.a - self.learning_rate * da\n",
    "            self.b = self.b - self.learning_rate * db    "
   ]
  },
  {
   "cell_type": "code",
   "execution_count": 186,
   "id": "83eefbc9-d595-4ca5-8cfa-2b75a4c0b664",
   "metadata": {},
   "outputs": [
    {
     "name": "stderr",
     "output_type": "stream",
     "text": [
      "C:\\Users\\lacis\\Documents\\ML\\lin_reg\\venv\\Lib\\site-packages\\numpy\\core\\fromnumeric.py:88: RuntimeWarning: overflow encountered in reduce\n",
      "  return ufunc.reduce(obj, axis, dtype, out, **passkwargs)\n",
      "C:\\Users\\lacis\\AppData\\Local\\Temp\\ipykernel_10216\\2070296518.py:14: RuntimeWarning: invalid value encountered in multiply\n",
      "  da = (-2/rows) * np.sum(x.T * temp)\n"
     ]
    }
   ],
   "source": [
    "model = LinearRegression(nr_of_iterations=1000, learning_rate=10)\n",
    "model.fit(x, y)"
   ]
  },
  {
   "cell_type": "code",
   "execution_count": null,
   "id": "5f4e70e6-7016-4265-8f5a-126f8cc4f7e0",
   "metadata": {},
   "outputs": [],
   "source": []
  }
 ],
 "metadata": {
  "kernelspec": {
   "display_name": "Python 3 (ipykernel)",
   "language": "python",
   "name": "python3"
  },
  "language_info": {
   "codemirror_mode": {
    "name": "ipython",
    "version": 3
   },
   "file_extension": ".py",
   "mimetype": "text/x-python",
   "name": "python",
   "nbconvert_exporter": "python",
   "pygments_lexer": "ipython3",
   "version": "3.11.7"
  }
 },
 "nbformat": 4,
 "nbformat_minor": 5
}
